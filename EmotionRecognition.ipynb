{
  "nbformat": 4,
  "nbformat_minor": 0,
  "metadata": {
    "colab": {
      "name": "EmotionRecognition.ipynb",
      "provenance": [],
      "mount_file_id": "1IQcFwtt8Q-HcWpi494zCxfmaiXx_AGS5",
      "authorship_tag": "ABX9TyMaoe6YnOWoL9USGz8BEuoK",
      "include_colab_link": true
    },
    "kernelspec": {
      "name": "python3",
      "display_name": "Python 3"
    },
    "language_info": {
      "name": "python"
    }
  },
  "cells": [
    {
      "cell_type": "markdown",
      "metadata": {
        "id": "view-in-github",
        "colab_type": "text"
      },
      "source": [
        "<a href=\"https://colab.research.google.com/github/CherylA24/EmotionRecognition/blob/main/EmotionRecognition.ipynb\" target=\"_parent\"><img src=\"https://colab.research.google.com/assets/colab-badge.svg\" alt=\"Open In Colab\"/></a>"
      ]
    },
    {
      "cell_type": "markdown",
      "source": [
        "-- Import Necessary Library"
      ],
      "metadata": {
        "id": "O_quuuBzf_d6"
      }
    },
    {
      "cell_type": "code",
      "source": [
        "import cv2 \n",
        "import os\n",
        "import numpy as np\n",
        "from sklearn.metrics import confusion_matrix, classification_report"
      ],
      "metadata": {
        "id": "yn6L91W5ailo"
      },
      "execution_count": null,
      "outputs": []
    },
    {
      "cell_type": "markdown",
      "source": [
        "-- Make load image function"
      ],
      "metadata": {
        "id": "4hnUAqaZgCd1"
      }
    },
    {
      "cell_type": "code",
      "source": [
        "def load_image(path):\n",
        "    emotions_name = os.listdir(path)\n",
        "    # face images\n",
        "    img_list = []\n",
        "    # label\n",
        "    class_list = []\n",
        "\n",
        "    for idx, emotion_name in enumerate(emotions_name):\n",
        "        image_name_path = os.path.join(path,emotion_name)\n",
        "\n",
        "        for image_name in os.listdir(image_name_path):\n",
        "            image_path = os.path.join(image_name_path, image_name)\n",
        "            image = cv2.imread(image_path)\n",
        "\n",
        "            height = image.shape[0]\n",
        "            width = int(image.shape[1] * (200 / height))\n",
        "            image = cv2.resize(image, (width, 200))\n",
        "\n",
        "            gray_img = cv2.cvtColor(image, cv2.COLOR_BGR2GRAY)\n",
        "\n",
        "            img_list.append(gray_img)\n",
        "            class_list.append(idx)\n",
        "        \n",
        "    return img_list, class_list"
      ],
      "metadata": {
        "id": "lHMtY3CBa-V9"
      },
      "execution_count": null,
      "outputs": []
    },
    {
      "cell_type": "markdown",
      "source": [
        "-- Make Training Model Function"
      ],
      "metadata": {
        "id": "jYQq_EGUgJc9"
      }
    },
    {
      "cell_type": "code",
      "source": [
        "def train(images_list, labels_list):\n",
        "    face_recognizer = cv2.face.LBPHFaceRecognizer_create()\n",
        "    face_recognizer.train(images_list, np.array(labels_list))\n",
        "\n",
        "    return face_recognizer"
      ],
      "metadata": {
        "id": "dm3MOXkLmmaw"
      },
      "execution_count": null,
      "outputs": []
    },
    {
      "cell_type": "markdown",
      "source": [
        "-- Make predict function"
      ],
      "metadata": {
        "id": "So-hHfn_gOBT"
      }
    },
    {
      "cell_type": "code",
      "source": [
        "def predict(recognizer, test_image_list):\n",
        "    prediction_results = []\n",
        "    for i in test_image_list:\n",
        "      result, _ = recognizer.predict(i)\n",
        "      prediction_results.append(result)\n",
        "\n",
        "    return prediction_results"
      ],
      "metadata": {
        "id": "2lo4yzQBmuWu"
      },
      "execution_count": null,
      "outputs": []
    },
    {
      "cell_type": "markdown",
      "source": [
        "1. Load the Dataset"
      ],
      "metadata": {
        "id": "vgq-tTZ5gY1_"
      }
    },
    {
      "cell_type": "code",
      "source": [
        "train_path = \"/content/drive/MyDrive/datasets/train\"\n",
        "test_path = \"/content/drive/MyDrive/datasets/test\"\n",
        "\n",
        "train_faces_list, train_classes_list = load_image(train_path)\n",
        "test_faces_list, test_classes_list = load_image(test_path)"
      ],
      "metadata": {
        "id": "V_691rzvpgVw"
      },
      "execution_count": null,
      "outputs": []
    },
    {
      "cell_type": "markdown",
      "source": [
        "2. Fit the training model into training dataset and save the model"
      ],
      "metadata": {
        "id": "h9XLke6_gdBv"
      }
    },
    {
      "cell_type": "code",
      "source": [
        "model = train(train_faces_list, train_classes_list)"
      ],
      "metadata": {
        "id": "WobVvKEXq_di"
      },
      "execution_count": null,
      "outputs": []
    },
    {
      "cell_type": "markdown",
      "source": [
        "3. Predict the testing dataset using the model"
      ],
      "metadata": {
        "id": "hRKv1CBAgnnV"
      }
    },
    {
      "cell_type": "code",
      "source": [
        "prediction = predict(model, test_faces_list)"
      ],
      "metadata": {
        "id": "X9fFVGaTrFCX"
      },
      "execution_count": null,
      "outputs": []
    },
    {
      "cell_type": "markdown",
      "source": [
        "-- Result "
      ],
      "metadata": {
        "id": "pNR8xDxAgseo"
      }
    },
    {
      "cell_type": "code",
      "source": [
        "# Print the data prediction and actual label\n",
        "import pandas as pd\n",
        "\n",
        "data = pd.DataFrame({\n",
        "    'actual': test_classes_list,\n",
        "    'prediction': prediction\n",
        "})\n",
        "\n",
        "data"
      ],
      "metadata": {
        "colab": {
          "base_uri": "https://localhost:8080/",
          "height": 423
        },
        "id": "3EnhMfOO86Da",
        "outputId": "4898235f-be68-458b-9532-bd3f5e002f38"
      },
      "execution_count": null,
      "outputs": [
        {
          "output_type": "execute_result",
          "data": {
            "text/html": [
              "\n",
              "  <div id=\"df-4bef42a7-e571-4325-9fc0-c6493e9321f6\">\n",
              "    <div class=\"colab-df-container\">\n",
              "      <div>\n",
              "<style scoped>\n",
              "    .dataframe tbody tr th:only-of-type {\n",
              "        vertical-align: middle;\n",
              "    }\n",
              "\n",
              "    .dataframe tbody tr th {\n",
              "        vertical-align: top;\n",
              "    }\n",
              "\n",
              "    .dataframe thead th {\n",
              "        text-align: right;\n",
              "    }\n",
              "</style>\n",
              "<table border=\"1\" class=\"dataframe\">\n",
              "  <thead>\n",
              "    <tr style=\"text-align: right;\">\n",
              "      <th></th>\n",
              "      <th>actual</th>\n",
              "      <th>prediction</th>\n",
              "    </tr>\n",
              "  </thead>\n",
              "  <tbody>\n",
              "    <tr>\n",
              "      <th>0</th>\n",
              "      <td>0</td>\n",
              "      <td>0</td>\n",
              "    </tr>\n",
              "    <tr>\n",
              "      <th>1</th>\n",
              "      <td>0</td>\n",
              "      <td>0</td>\n",
              "    </tr>\n",
              "    <tr>\n",
              "      <th>2</th>\n",
              "      <td>0</td>\n",
              "      <td>0</td>\n",
              "    </tr>\n",
              "    <tr>\n",
              "      <th>3</th>\n",
              "      <td>0</td>\n",
              "      <td>0</td>\n",
              "    </tr>\n",
              "    <tr>\n",
              "      <th>4</th>\n",
              "      <td>0</td>\n",
              "      <td>0</td>\n",
              "    </tr>\n",
              "    <tr>\n",
              "      <th>...</th>\n",
              "      <td>...</td>\n",
              "      <td>...</td>\n",
              "    </tr>\n",
              "    <tr>\n",
              "      <th>454</th>\n",
              "      <td>6</td>\n",
              "      <td>6</td>\n",
              "    </tr>\n",
              "    <tr>\n",
              "      <th>455</th>\n",
              "      <td>6</td>\n",
              "      <td>6</td>\n",
              "    </tr>\n",
              "    <tr>\n",
              "      <th>456</th>\n",
              "      <td>6</td>\n",
              "      <td>6</td>\n",
              "    </tr>\n",
              "    <tr>\n",
              "      <th>457</th>\n",
              "      <td>6</td>\n",
              "      <td>6</td>\n",
              "    </tr>\n",
              "    <tr>\n",
              "      <th>458</th>\n",
              "      <td>6</td>\n",
              "      <td>6</td>\n",
              "    </tr>\n",
              "  </tbody>\n",
              "</table>\n",
              "<p>459 rows × 2 columns</p>\n",
              "</div>\n",
              "      <button class=\"colab-df-convert\" onclick=\"convertToInteractive('df-4bef42a7-e571-4325-9fc0-c6493e9321f6')\"\n",
              "              title=\"Convert this dataframe to an interactive table.\"\n",
              "              style=\"display:none;\">\n",
              "        \n",
              "  <svg xmlns=\"http://www.w3.org/2000/svg\" height=\"24px\"viewBox=\"0 0 24 24\"\n",
              "       width=\"24px\">\n",
              "    <path d=\"M0 0h24v24H0V0z\" fill=\"none\"/>\n",
              "    <path d=\"M18.56 5.44l.94 2.06.94-2.06 2.06-.94-2.06-.94-.94-2.06-.94 2.06-2.06.94zm-11 1L8.5 8.5l.94-2.06 2.06-.94-2.06-.94L8.5 2.5l-.94 2.06-2.06.94zm10 10l.94 2.06.94-2.06 2.06-.94-2.06-.94-.94-2.06-.94 2.06-2.06.94z\"/><path d=\"M17.41 7.96l-1.37-1.37c-.4-.4-.92-.59-1.43-.59-.52 0-1.04.2-1.43.59L10.3 9.45l-7.72 7.72c-.78.78-.78 2.05 0 2.83L4 21.41c.39.39.9.59 1.41.59.51 0 1.02-.2 1.41-.59l7.78-7.78 2.81-2.81c.8-.78.8-2.07 0-2.86zM5.41 20L4 18.59l7.72-7.72 1.47 1.35L5.41 20z\"/>\n",
              "  </svg>\n",
              "      </button>\n",
              "      \n",
              "  <style>\n",
              "    .colab-df-container {\n",
              "      display:flex;\n",
              "      flex-wrap:wrap;\n",
              "      gap: 12px;\n",
              "    }\n",
              "\n",
              "    .colab-df-convert {\n",
              "      background-color: #E8F0FE;\n",
              "      border: none;\n",
              "      border-radius: 50%;\n",
              "      cursor: pointer;\n",
              "      display: none;\n",
              "      fill: #1967D2;\n",
              "      height: 32px;\n",
              "      padding: 0 0 0 0;\n",
              "      width: 32px;\n",
              "    }\n",
              "\n",
              "    .colab-df-convert:hover {\n",
              "      background-color: #E2EBFA;\n",
              "      box-shadow: 0px 1px 2px rgba(60, 64, 67, 0.3), 0px 1px 3px 1px rgba(60, 64, 67, 0.15);\n",
              "      fill: #174EA6;\n",
              "    }\n",
              "\n",
              "    [theme=dark] .colab-df-convert {\n",
              "      background-color: #3B4455;\n",
              "      fill: #D2E3FC;\n",
              "    }\n",
              "\n",
              "    [theme=dark] .colab-df-convert:hover {\n",
              "      background-color: #434B5C;\n",
              "      box-shadow: 0px 1px 3px 1px rgba(0, 0, 0, 0.15);\n",
              "      filter: drop-shadow(0px 1px 2px rgba(0, 0, 0, 0.3));\n",
              "      fill: #FFFFFF;\n",
              "    }\n",
              "  </style>\n",
              "\n",
              "      <script>\n",
              "        const buttonEl =\n",
              "          document.querySelector('#df-4bef42a7-e571-4325-9fc0-c6493e9321f6 button.colab-df-convert');\n",
              "        buttonEl.style.display =\n",
              "          google.colab.kernel.accessAllowed ? 'block' : 'none';\n",
              "\n",
              "        async function convertToInteractive(key) {\n",
              "          const element = document.querySelector('#df-4bef42a7-e571-4325-9fc0-c6493e9321f6');\n",
              "          const dataTable =\n",
              "            await google.colab.kernel.invokeFunction('convertToInteractive',\n",
              "                                                     [key], {});\n",
              "          if (!dataTable) return;\n",
              "\n",
              "          const docLinkHtml = 'Like what you see? Visit the ' +\n",
              "            '<a target=\"_blank\" href=https://colab.research.google.com/notebooks/data_table.ipynb>data table notebook</a>'\n",
              "            + ' to learn more about interactive tables.';\n",
              "          element.innerHTML = '';\n",
              "          dataTable['output_type'] = 'display_data';\n",
              "          await google.colab.output.renderOutput(dataTable, element);\n",
              "          const docLink = document.createElement('div');\n",
              "          docLink.innerHTML = docLinkHtml;\n",
              "          element.appendChild(docLink);\n",
              "        }\n",
              "      </script>\n",
              "    </div>\n",
              "  </div>\n",
              "  "
            ],
            "text/plain": [
              "     actual  prediction\n",
              "0         0           0\n",
              "1         0           0\n",
              "2         0           0\n",
              "3         0           0\n",
              "4         0           0\n",
              "..      ...         ...\n",
              "454       6           6\n",
              "455       6           6\n",
              "456       6           6\n",
              "457       6           6\n",
              "458       6           6\n",
              "\n",
              "[459 rows x 2 columns]"
            ]
          },
          "metadata": {},
          "execution_count": 8
        }
      ]
    },
    {
      "cell_type": "markdown",
      "source": [
        "-- Evaluation"
      ],
      "metadata": {
        "id": "mndxaVuKgu-B"
      }
    },
    {
      "cell_type": "code",
      "source": [
        "import seaborn as sn\n",
        "from matplotlib import pyplot as plt\n",
        "\n",
        "confusion_matrix = pd.crosstab(data['prediction'], data['actual'], rownames=['prediction'], \n",
        "                               colnames=['actual'])\n",
        "sn.heatmap(confusion_matrix, annot=True)\n",
        "plt.show()"
      ],
      "metadata": {
        "colab": {
          "base_uri": "https://localhost:8080/",
          "height": 279
        },
        "id": "E6lTD7YDBCkx",
        "outputId": "73085f6f-f96d-42e0-b6cb-81fa305ef236"
      },
      "execution_count": null,
      "outputs": [
        {
          "output_type": "display_data",
          "data": {
            "image/png": "[encoded data removed]",
            "text/plain": [
              "<Figure size 432x288 with 2 Axes>"
            ]
          },
          "metadata": {
            "needs_background": "light"
          }
        }
      ]
    },
    {
      "cell_type": "code",
      "source": [
        "from sklearn.metrics import confusion_matrix, classification_report\n",
        "print(confusion_matrix(prediction, test_classes_list))\n",
        "print(classification_report(prediction, test_classes_list))"
      ],
      "metadata": {
        "colab": {
          "base_uri": "https://localhost:8080/"
        },
        "id": "pw_hc0SGpEww",
        "outputId": "aedf2362-ea93-4425-ae64-3484b9e1219b"
      },
      "execution_count": null,
      "outputs": [
        {
          "output_type": "stream",
          "name": "stdout",
          "text": [
            "[[ 49   0   0   0   0   0   0]\n",
            " [  0  12   0   0   0   0   0]\n",
            " [  0   0  57   0   0   0   0]\n",
            " [  0   0   0  75   0   0   0]\n",
            " [  0   0   0   0  85   0   0]\n",
            " [  0   0   0   0   0  35   0]\n",
            " [  0   0   0   0   0   0 146]]\n",
            "              precision    recall  f1-score   support\n",
            "\n",
            "           0       1.00      1.00      1.00        49\n",
            "           1       1.00      1.00      1.00        12\n",
            "           2       1.00      1.00      1.00        57\n",
            "           3       1.00      1.00      1.00        75\n",
            "           4       1.00      1.00      1.00        85\n",
            "           5       1.00      1.00      1.00        35\n",
            "           6       1.00      1.00      1.00       146\n",
            "\n",
            "    accuracy                           1.00       459\n",
            "   macro avg       1.00      1.00      1.00       459\n",
            "weighted avg       1.00      1.00      1.00       459\n",
            "\n"
          ]
        }
      ]
    }
  ]
}